{
  "nbformat": 4,
  "nbformat_minor": 0,
  "metadata": {
    "colab": {
      "name": "RadixSort.ipynb",
      "provenance": [],
      "collapsed_sections": [],
      "authorship_tag": "ABX9TyNlyWwtiaNhobykkGnhdYz1",
      "include_colab_link": true
    },
    "kernelspec": {
      "name": "python3",
      "display_name": "Python 3"
    }
  },
  "cells": [
    {
      "cell_type": "markdown",
      "metadata": {
        "id": "view-in-github",
        "colab_type": "text"
      },
      "source": [
        "<a href=\"https://colab.research.google.com/github/fafafs10/RadixSort/blob/main/RadixSort.ipynb\" target=\"_parent\"><img src=\"https://colab.research.google.com/assets/colab-badge.svg\" alt=\"Open In Colab\"/></a>"
      ]
    },
    {
      "cell_type": "code",
      "metadata": {
        "colab": {
          "base_uri": "https://localhost:8080/"
        },
        "id": "LT68yE1Nobcm",
        "outputId": "7f38bc2e-a167-4e5c-ec8e-255d91062b0e"
      },
      "source": [
        "import matplotlib.pyplot as plt\r\n",
        "import time\r\n",
        "import numpy as np\r\n",
        "\r\n",
        "# Radix sort in Python\r\n",
        "\r\n",
        "\r\n",
        "# Using counting sort to sort the elements in the basis of significant places\r\n",
        "def countingSort(array, place):\r\n",
        "    size = len(array)\r\n",
        "    output = [0] * size\r\n",
        "    count = [0] * 10\r\n",
        "\r\n",
        "    # Calculate count of elements\r\n",
        "    for i in range(0, size):\r\n",
        "        index = array[i] // place\r\n",
        "        count[index % 10] += 1\r\n",
        "\r\n",
        "    # Calculate cummulative count\r\n",
        "    for i in range(1, 10):\r\n",
        "        count[i] += count[i - 1]\r\n",
        "\r\n",
        "    # Place the elements in sorted order\r\n",
        "    i = size - 1\r\n",
        "    while i >= 0:\r\n",
        "        index = array[i] // place\r\n",
        "        output[count[index % 10] - 1] = array[i]\r\n",
        "        count[index % 10] -= 1\r\n",
        "        i -= 1\r\n",
        "\r\n",
        "    for i in range(0, size):\r\n",
        "        array[i] = output[i]\r\n",
        "\r\n",
        "\r\n",
        "# Main function to implement radix sort\r\n",
        "def radixSort(array):\r\n",
        "    # Get maximum element\r\n",
        "    max_element = max(array)\r\n",
        "\r\n",
        "    # Apply counting sort to sort elements based on place value.\r\n",
        "    place = 1\r\n",
        "    while max_element // place > 0:\r\n",
        "        countingSort(array, place)\r\n",
        "        place *= 10\r\n",
        "\r\n",
        "\r\n",
        "data = [121, 432, 564, 23, 1, 45, 788]\r\n",
        "radixSort(data)\r\n",
        "print(data)\r\n"
      ],
      "execution_count": 12,
      "outputs": [
        {
          "output_type": "stream",
          "text": [
            "[1, 23, 45, 121, 432, 564, 788]\n"
          ],
          "name": "stdout"
        }
      ]
    },
    {
      "cell_type": "code",
      "metadata": {
        "colab": {
          "base_uri": "https://localhost:8080/"
        },
        "id": "WFESRn78o8vp",
        "outputId": "0764cbac-8cb8-4376-9bb4-8004db72a46e"
      },
      "source": [
        "import matplotlib.pyplot as plt\r\n",
        "import time\r\n",
        "import numpy as np\r\n",
        "\r\n",
        "radixSort(arr)\r\n",
        "np.random.seed(5)\r\n",
        "TimeRadix={}\r\n",
        "inputsize=[10,100,1000,10000,100000]\r\n",
        "RunningTime=[]\r\n",
        "\r\n",
        "\r\n",
        "for i in inputsize:\r\n",
        "  begin = time.time()\r\n",
        "  random = np.random.random(size=i)\r\n",
        "  radixSort(random)\r\n",
        "  end = time.time()\r\n",
        "  TimeRadix[i] = end-begin\r\n",
        "  \r\n",
        "print(TimeRadix) "
      ],
      "execution_count": 13,
      "outputs": [
        {
          "output_type": "stream",
          "text": [
            "{10: 6.556510925292969e-05, 100: 3.337860107421875e-05, 1000: 0.000213623046875, 10000: 0.002610921859741211, 100000: 0.019884586334228516}\n"
          ],
          "name": "stdout"
        }
      ]
    },
    {
      "cell_type": "code",
      "metadata": {
        "colab": {
          "base_uri": "https://localhost:8080/"
        },
        "id": "n0JMB_w_sLBc",
        "outputId": "8842fa56-e02f-4525-a895-20dbdf0126e0"
      },
      "source": [
        "# Python program for implementation of Bubble Sort \r\n",
        "\r\n",
        "def bubbleSort(arr): \r\n",
        "\tn = len(arr) \r\n",
        "\r\n",
        "\t# Traverse through all array elements \r\n",
        "\tfor i in range(n): \r\n",
        "\r\n",
        "\t\t# Last i elements are already in place \r\n",
        "\t\tfor j in range(0, n-i-1): \r\n",
        "\r\n",
        "\t\t\t# traverse the array from 0 to n-i-1 \r\n",
        "\t\t\t# Swap if the element found is greater \r\n",
        "\t\t\t# than the next element \r\n",
        "\t\t\tif arr[j] > arr[j+1] : \r\n",
        "\t\t\t\tarr[j], arr[j+1] = arr[j+1], arr[j] \r\n",
        "\r\n",
        "# Driver code to test above \r\n",
        "arr = [64, 34, 25, 12, 22, 11, 90] \r\n",
        "\r\n",
        "bubbleSort(arr) \r\n",
        "\r\n",
        "print (\"Sorted array is:\") \r\n",
        "for i in range(len(arr)): \r\n",
        "\tprint (\"%d\" %arr[i]), \r\n"
      ],
      "execution_count": 14,
      "outputs": [
        {
          "output_type": "stream",
          "text": [
            "Sorted array is:\n",
            "11\n",
            "12\n",
            "22\n",
            "25\n",
            "34\n",
            "64\n",
            "90\n"
          ],
          "name": "stdout"
        }
      ]
    },
    {
      "cell_type": "code",
      "metadata": {
        "colab": {
          "base_uri": "https://localhost:8080/"
        },
        "id": "0AWb-6CXshgn",
        "outputId": "0ca95492-0fdf-4172-ddec-db0dffe8f60f"
      },
      "source": [
        "import matplotlib.pyplot as plt\r\n",
        "import time\r\n",
        "import numpy as np\r\n",
        "\r\n",
        "bubbleSort(arr)\r\n",
        "np.random.seed(5)\r\n",
        "TimeBubble={}\r\n",
        "inputsize=[10,100,1000,10000,100000]\r\n",
        "RunningTime=[]\r\n",
        "\r\n",
        "\r\n",
        "for i in inputsize:\r\n",
        "  begin = time.time()\r\n",
        "  random = np.random.random(size=i)\r\n",
        "  bubbleSort(random)\r\n",
        "  end = time.time()\r\n",
        "  TimeBubble[i] = end-begin\r\n",
        "  \r\n",
        "print(TimeBubble) "
      ],
      "execution_count": 16,
      "outputs": [
        {
          "output_type": "stream",
          "text": [
            "{10: 0.00013589859008789062, 100: 0.005800724029541016, 1000: 0.3509187698364258, 10000: 33.77176594734192, 100000: 3410.517941713333}\n"
          ],
          "name": "stdout"
        }
      ]
    },
    {
      "cell_type": "code",
      "metadata": {
        "colab": {
          "base_uri": "https://localhost:8080/",
          "height": 454
        },
        "id": "4fvLmmVWJEG6",
        "outputId": "ee37d320-e60a-469f-8795-9c7d6d68d838"
      },
      "source": [
        "TimeRadix = {10: 6.556510925292969e-05, 100: 3.337860107421875e-05, 1000: 0.000213623046875, 10000: 0.002610921859741211, 100000: 0.019884586334228516}\r\n",
        "TimeBubble = {10: 0.00013589859008789062, 100: 0.005800724029541016, 1000: 0.3509187698364258, 10000: 33.77176594734192, 100000: 3410.517941713333}\r\n",
        "\r\n",
        "print(TimeRadix)\r\n",
        "print(TimeBubble)\r\n",
        "\r\n",
        "f, ax = plt.subplots(1,3,figsize=(15,6))\r\n",
        "ax[0].plot(inputsize,list(TimeRadix.values()))\r\n",
        "ax[0].set(title=\"Radix Sort\",xlabel=\"Inputsize\",ylabel=\"Time in Second\")\r\n",
        "ax[1].plot(inputsize,list(TimeBubble.values()))\r\n",
        "ax[1].set(title=\"Bubble Sort\",xlabel=\"Inputsize\",ylabel=\"Time in Second\")\r\n",
        "ax[2].plot(inputsize,list(TimeBubble.values()),\r\n",
        "           inputsize,list(TimeRadix.values()))\r\n",
        "ax[2].set(title=\"Both Sorting\",xlabel=\"Inputsize\",ylabel=\"Time in Second\")\r\n",
        "ax[2].legend([\"Bubble\",\"Radix\"])"
      ],
      "execution_count": 18,
      "outputs": [
        {
          "output_type": "stream",
          "text": [
            "{10: 6.556510925292969e-05, 100: 3.337860107421875e-05, 1000: 0.000213623046875, 10000: 0.002610921859741211, 100000: 0.019884586334228516}\n",
            "{10: 0.00013589859008789062, 100: 0.005800724029541016, 1000: 0.3509187698364258, 10000: 33.77176594734192, 100000: 3410.517941713333}\n"
          ],
          "name": "stdout"
        },
        {
          "output_type": "execute_result",
          "data": {
            "text/plain": [
              "<matplotlib.legend.Legend at 0x7f3d99843dd8>"
            ]
          },
          "metadata": {
            "tags": []
          },
          "execution_count": 18
        },
        {
          "output_type": "display_data",
          "data": {
            "image/png": "[encoded data removed]",
            "text/plain": [
              "<Figure size 1080x432 with 3 Axes>"
            ]
          },
          "metadata": {
            "tags": [],
            "needs_background": "light"
          }
        }
      ]
    }
  ]
}